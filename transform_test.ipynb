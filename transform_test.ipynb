{
 "cells": [
  {
   "cell_type": "code",
   "execution_count": 3,
   "metadata": {},
   "outputs": [],
   "source": [
    "import numpy as np\n",
    "import os\n",
    "\n",
    "module_name = [\"2yel\"]"
   ]
  },
  {
   "cell_type": "code",
   "execution_count": 6,
   "metadata": {},
   "outputs": [],
   "source": [
    "def transform_single_frame(path,module_name,file_name):\n",
    "    fin = open(path+file_name, \"rt\")\n",
    "    fout = open(\"out.txt\", \"wt\")\n",
    "\n",
    "    for line in fin:\n",
    "        fout.write(' '.join(line.split()))\n",
    "        fout.write(\"\\n\")\n",
    "\n",
    "    fin.close()\n",
    "    fout.close()\n",
    "\n",
    "    npdata = np.loadtxt('out.txt',delimiter=\" \")\n",
    "\n",
    "    npy_name = file_name.split(\".\")[0]+\".npy\"\n",
    "\n",
    "    fout = open(f\"data/b{module_name}/{file_name}\", \"wb\")\n",
    "    np.save(fout, npdata)\n"
   ]
  },
  {
   "cell_type": "code",
   "execution_count": 14,
   "metadata": {},
   "outputs": [],
   "source": [
    "def transform_trajactory(path, module_name):\n",
    "    # frames = []\n",
    "    print(path)\n",
    "    files = os.listdir(path) #采用listdir来读取所有文件\n",
    "    files.sort() #排序\n",
    "    print(f\"transforming {module_name}...\")\n",
    "    for file_ in files:     #循环读取每个文件名\n",
    "        f_name = str(file_)\n",
    "        print(f\"transforming {f_name}...\")\n",
    "        transform_single_frame(path,module_name,f_name)\n"
   ]
  },
  {
   "cell_type": "code",
   "execution_count": 12,
   "metadata": {},
   "outputs": [],
   "source": [
    "def traverse_directory(path):\n",
    "    files = os.listdir(path)\n",
    "    for file_ in files:\n",
    "        # print(file_)\n",
    "        if os.path.isdir(path+file_):\n",
    "            if file_ in module_name:\n",
    "                transform_trajactory(path+file_+\"/\", file_)"
   ]
  },
  {
   "cell_type": "code",
   "execution_count": 13,
   "metadata": {},
   "outputs": [
    {
     "name": "stdout",
     "output_type": "stream",
     "text": [
      "transforming 2yel...\n",
      "transforming _fld-01_obj-01.agrd.2yel...\n",
      "transforming _fld-01_obj-02.agrd.2yel...\n",
      "transforming _fld-01_obj-03.agrd.2yel...\n",
      "transforming _fld-01_obj-04.agrd.2yel...\n",
      "transforming _fld-01_obj-05.agrd.2yel...\n",
      "transforming _fld-01_obj-06.agrd.2yel...\n",
      "transforming _fld-01_obj-07.agrd.2yel...\n",
      "transforming _fld-01_obj-08.agrd.2yel...\n",
      "transforming _fld-01_obj-09.agrd.2yel...\n",
      "transforming _fld-01_obj-10.agrd.2yel...\n"
     ]
    }
   ],
   "source": [
    "traverse_directory(\"data/\")"
   ]
  }
 ],
 "metadata": {
  "interpreter": {
   "hash": "6f6ac71a852bd6d80ce0d374c33eae97b00717625ad83596a01c3a0491541b1c"
  },
  "kernelspec": {
   "display_name": "Python 3.7.11 ('fyp')",
   "language": "python",
   "name": "python3"
  },
  "language_info": {
   "codemirror_mode": {
    "name": "ipython",
    "version": 3
   },
   "file_extension": ".py",
   "mimetype": "text/x-python",
   "name": "python",
   "nbconvert_exporter": "python",
   "pygments_lexer": "ipython3",
   "version": "3.7.11"
  },
  "orig_nbformat": 4
 },
 "nbformat": 4,
 "nbformat_minor": 2
}
