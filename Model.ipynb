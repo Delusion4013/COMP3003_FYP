{
 "cells": [
  {
   "cell_type": "code",
   "execution_count": 1,
   "metadata": {},
   "outputs": [],
   "source": [
    "import tensorflow as tf\n",
    "from tensorflow.keras.preprocessing.image import ImageDataGenerator\n",
    "from tensorflow.keras.models import Sequential, Model\n",
    "from tensorflow.keras.layers import Conv3D, MaxPooling3D\n",
    "from tensorflow.keras.callbacks import EarlyStopping\n",
    "from tensorflow.keras.models import load_model\n",
    "from tensorflow.keras.layers import BatchNormalization,Flatten,\\\n",
    "Add,Input,Dense, Dropout, Activation, InputLayer\n",
    "from tensorflow.keras.optimizers import Adam\n",
    "\n",
    "\n",
    "import numpy as np\n",
    "import pandas as pd\n"
   ]
  },
  {
   "cell_type": "markdown",
   "metadata": {},
   "source": [
    "def import_data():\n"
   ]
  },
  {
   "cell_type": "code",
   "execution_count": null,
   "metadata": {},
   "outputs": [],
   "source": [
    "def model_construction():\n",
    "    model = models.Sequential(name=\"test\")\n",
    "\n",
    "    inputs = layers.Input(shape=(10,10,10,10))\n",
    "\n",
    "    model = MaxPooling3D(pool_size=(2,2,2))(inputs)\n",
    "    model = Conv3D(32, (2, 2, 2), strides=(1, 1, 1), activation='relu')(model)\n",
    "    model = MaxPooling3D(pool_size=(2,2,2))(model)\n",
    "    model = Conv3D(64, (2, 2, 2), strides=(1, 1, 1), activation='relu')(model)\n",
    "    model = MaxPooling3D(pool_size=(2,2,2))(model)\n",
    "    model = Conv3D(128, (2, 2, 2), strides=(1, 1, 1), activation='relu')(model)\n",
    "    \n",
    "    model = Flatten()(model)\n",
    "    model = Dense(15,activation='relu')(model)\n",
    "    output = model\n",
    "    \n",
    "    model = Model(inputs=inputs, outputs=output)\n",
    "\n",
    "    model.add(MaxPooling3D(pool_size=(2,2), strides=2, padding='same'))\n",
    "    model.add(Conv3D(32, (2,2,2),strides=(1, 1, 1), avtivation='relu'))\n",
    "    model.add(MaxPooling3D(pool_size=(2,2,2)))\n",
    "    model.add(Conv3D(64, (2,2,2),strides=(1, 1, 1), avtivation='relu'))\n",
    "    model.add(MaxPooling3D(pool_size=(2,2,2)))\n",
    "    model.add(Conv3D(128, (2,2,2),strides=(1, 1, 1), avtivation='relu'))\n",
    "    model.add(MaxPooling3D(pool_size=(2,2,2)))\n",
    "    \n",
    "    model.add"
   ]
  },
  {
   "cell_type": "markdown",
   "metadata": {},
   "source": [
    "# Peking U example\n"
   ]
  },
  {
   "cell_type": "code",
   "execution_count": 5,
   "metadata": {},
   "outputs": [],
   "source": [
    "# Peking U example\n",
    "import tensorflow as tf\n",
    "import os\n",
    "import numpy as np\n",
    "from tensorflow.keras.layers import Conv3D, BatchNormalization,Activation, MaxPool3D, Dropout, Flatten,Dense\n",
    "from tensorflow.keras import Model"
   ]
  },
  {
   "cell_type": "code",
   "execution_count": 31,
   "metadata": {},
   "outputs": [],
   "source": [
    "x_train = np.random.rand(100,3,3,3,2)\n",
    "y_train = np.random.rand(100,1)\n",
    "\n",
    "x_test = np.random.rand(3,3,3,2)\n",
    "y_test = np.random.rand(1)"
   ]
  },
  {
   "cell_type": "code",
   "execution_count": 32,
   "metadata": {},
   "outputs": [
    {
     "data": {
      "text/plain": [
       "numpy.ndarray"
      ]
     },
     "execution_count": 32,
     "metadata": {},
     "output_type": "execute_result"
    }
   ],
   "source": [
    "type(y_train)"
   ]
  },
  {
   "cell_type": "code",
   "execution_count": 24,
   "metadata": {},
   "outputs": [],
   "source": [
    "class Baseline(Model):\n",
    "    def __init__(self):\n",
    "        super(Baseline, self).__init__()\n",
    "        self.c1 = Conv3D(filters=3, kernel_size=2, padding='same')\n",
    "        self.b1 = BatchNormalization()\n",
    "        self.a1 = Activation('relu')\n",
    "        self.p1 = MaxPool3D(pool_size=2)\n",
    "        self.d1 = Dropout(0.2)\n",
    "\n",
    "        self.flatten = Flatten()\n",
    "        self.f1 = Dense(128, activation='relu')\n",
    "        self.d2 = Dropout(0.2)\n",
    "        self.f2 = Dense(1, activation='softmax')\n",
    "\n",
    "    def call(self, x):\n",
    "        x = self.c1(x)\n",
    "        x = self.b1(x)\n",
    "        x = self.a1(x)\n",
    "        x = self.p1(x)\n",
    "        x = self.d1(x)\n",
    "\n",
    "        x = self.flatten(x)\n",
    "        x = self.f1(x)\n",
    "        x = self.d2(x)\n",
    "        y = self.f2(x)\n",
    "        return y"
   ]
  },
  {
   "cell_type": "code",
   "execution_count": 27,
   "metadata": {},
   "outputs": [],
   "source": [
    "model = Baseline()\n",
    "\n",
    "model.compile(optimizer='adam', loss=tf.keras.losses.MeanAbsoluteError,metrics=['MeanAbsoluteError'])"
   ]
  },
  {
   "cell_type": "code",
   "execution_count": null,
   "metadata": {},
   "outputs": [],
   "source": [
    "model.fit(x_train,y_train,epochs=5,validation_data=(x_test,y_test), validation_freq=1)"
   ]
  },
  {
   "cell_type": "markdown",
   "metadata": {},
   "source": [
    "# Tensorflow Official Example\n",
    "[Link](https://www.tensorflow.org/tutorials/images/cnn)"
   ]
  },
  {
   "cell_type": "code",
   "execution_count": 4,
   "metadata": {},
   "outputs": [],
   "source": [
    "import tensorflow as tf\n",
    "import numpy as np\n",
    "\n",
    "from tensorflow.keras import datasets, layers, models\n",
    "import matplotlib.pyplot as plt"
   ]
  },
  {
   "cell_type": "code",
   "execution_count": 5,
   "metadata": {},
   "outputs": [],
   "source": [
    "# The inputs are 40x40x40 volumes with three channels, and the\n",
    "# batch size is 4\n",
    "batch_size = 4\n",
    "depth = 109\n",
    "height = 104\n",
    "width = 85\n",
    "input_channels = 2\n",
    "input_shape =(batch_size,depth,height,width,input_channels)"
   ]
  },
  {
   "cell_type": "code",
   "execution_count": 6,
   "metadata": {},
   "outputs": [],
   "source": [
    "x_train = np.random.rand(100,depth,height,width,input_channels)\n",
    "y_train = np.random.rand(100,1)\n",
    "\n",
    "x_test = np.random.rand(20,depth,height,width,input_channels)\n",
    "y_test = np.random.rand(20,1)"
   ]
  },
  {
   "cell_type": "code",
   "execution_count": 7,
   "metadata": {},
   "outputs": [
    {
     "name": "stderr",
     "output_type": "stream",
     "text": [
      "2022-02-22 12:20:04.647973: I tensorflow/core/platform/cpu_feature_guard.cc:145] This TensorFlow binary is optimized with Intel(R) MKL-DNN to use the following CPU instructions in performance critical operations:  SSE4.1 SSE4.2 AVX AVX2 FMA\n",
      "To enable them in non-MKL-DNN operations, rebuild TensorFlow with the appropriate compiler flags.\n",
      "2022-02-22 12:20:04.648379: I tensorflow/core/common_runtime/process_util.cc:115] Creating new thread pool with default inter op setting: 12. Tune using inter_op_parallelism_threads for best performance.\n"
     ]
    },
    {
     "name": "stdout",
     "output_type": "stream",
     "text": [
      "(4, 107, 102, 83, 1)\n"
     ]
    }
   ],
   "source": [
    "# Test the Conv3D layer\n",
    "x = tf.random.normal(input_shape)\n",
    "y = tf.keras.layers.Conv3D(filters=1, kernel_size=3, activation='relu', input_shape=input_shape[1:])(x)\n",
    "print(y.shape)\n"
   ]
  },
  {
   "cell_type": "code",
   "execution_count": 8,
   "metadata": {},
   "outputs": [
    {
     "name": "stdout",
     "output_type": "stream",
     "text": [
      "(None, 54, 52, 42, 2)\n"
     ]
    }
   ],
   "source": [
    "# Test the MaxPooling layer\n",
    "inputs = tf.keras.Input(shape=input_shape[1:])\n",
    "layer = tf.keras.layers.MaxPooling3D(pool_size=2)\n",
    "outputs = layer(inputs)  # Shape: (batch_size, 10, 10, 10, 3)\n",
    "print(outputs.shape)"
   ]
  },
  {
   "cell_type": "code",
   "execution_count": 11,
   "metadata": {},
   "outputs": [],
   "source": [
    "model = models.Sequential()\n",
    "model.add(layers.Conv3D(filters=2, kernel_size=3, activation='relu', input_shape=input_shape[1:]))\n",
    "model.add(layers.MaxPooling3D(pool_size=2))\n",
    "model.add(layers.Conv3D(filters=4, kernel_size=3, activation='relu'))\n",
    "model.add(layers.MaxPooling3D(pool_size=2))\n",
    "\n",
    "model.add(layers.Flatten())\n",
    "model.add(layers.Dense(2, activation='relu'))\n",
    "model.add(layers.Dense(10))"
   ]
  },
  {
   "cell_type": "code",
   "execution_count": 12,
   "metadata": {},
   "outputs": [
    {
     "name": "stdout",
     "output_type": "stream",
     "text": [
      "Model: \"sequential_1\"\n",
      "_________________________________________________________________\n",
      "Layer (type)                 Output Shape              Param #   \n",
      "=================================================================\n",
      "conv3d_3 (Conv3D)            (None, 107, 102, 83, 2)   110       \n",
      "_________________________________________________________________\n",
      "max_pooling3d_3 (MaxPooling3 (None, 53, 51, 41, 2)     0         \n",
      "_________________________________________________________________\n",
      "conv3d_4 (Conv3D)            (None, 51, 49, 39, 4)     220       \n",
      "_________________________________________________________________\n",
      "max_pooling3d_4 (MaxPooling3 (None, 25, 24, 19, 4)     0         \n",
      "_________________________________________________________________\n",
      "flatten_1 (Flatten)          (None, 45600)             0         \n",
      "_________________________________________________________________\n",
      "dense_2 (Dense)              (None, 2)                 91202     \n",
      "_________________________________________________________________\n",
      "dense_3 (Dense)              (None, 10)                30        \n",
      "=================================================================\n",
      "Total params: 91,562\n",
      "Trainable params: 91,562\n",
      "Non-trainable params: 0\n",
      "_________________________________________________________________\n"
     ]
    }
   ],
   "source": [
    "model.summary()"
   ]
  },
  {
   "cell_type": "code",
   "execution_count": 13,
   "metadata": {},
   "outputs": [
    {
     "name": "stdout",
     "output_type": "stream",
     "text": [
      "Train on 100 samples, validate on 20 samples\n",
      "Epoch 1/10\n",
      "100/100 [==============================] - 38s 383ms/sample - loss: 1.1907 - accuracy: 0.0000e+00 - val_loss: 0.1677 - val_accuracy: 0.0000e+00\n",
      "Epoch 2/10\n",
      "100/100 [==============================] - 36s 358ms/sample - loss: 0.0994 - accuracy: 0.0000e+00 - val_loss: 0.0129 - val_accuracy: 0.0000e+00\n",
      "Epoch 3/10\n",
      "100/100 [==============================] - 43s 434ms/sample - loss: 0.0074 - accuracy: 0.0000e+00 - val_loss: 9.1873e-04 - val_accuracy: 0.0000e+00\n",
      "Epoch 4/10\n",
      "100/100 [==============================] - 34s 341ms/sample - loss: 5.4649e-04 - accuracy: 0.0000e+00 - val_loss: 9.0446e-05 - val_accuracy: 0.0000e+00\n",
      "Epoch 5/10\n",
      "100/100 [==============================] - 34s 343ms/sample - loss: 5.8016e-05 - accuracy: 0.0000e+00 - val_loss: 1.3900e-05 - val_accuracy: 0.0000e+00\n",
      "Epoch 6/10\n",
      "100/100 [==============================] - 30s 304ms/sample - loss: 9.7036e-06 - accuracy: 0.0000e+00 - val_loss: 3.3021e-06 - val_accuracy: 0.0000e+00\n",
      "Epoch 7/10\n",
      "100/100 [==============================] - 39s 395ms/sample - loss: 2.5010e-06 - accuracy: 0.0000e+00 - val_loss: 1.1384e-06 - val_accuracy: 0.0000e+00\n",
      "Epoch 8/10\n",
      "100/100 [==============================] - 30s 303ms/sample - loss: 9.2506e-07 - accuracy: 0.0000e+00 - val_loss: 5.0068e-07 - val_accuracy: 0.0000e+00\n",
      "Epoch 9/10\n",
      "100/100 [==============================] - 39s 392ms/sample - loss: 4.4346e-07 - accuracy: 0.0000e+00 - val_loss: 3.2187e-07 - val_accuracy: 0.0000e+00\n",
      "Epoch 10/10\n",
      "100/100 [==============================] - 30s 298ms/sample - loss: 2.6464e-07 - accuracy: 0.0000e+00 - val_loss: 2.3842e-07 - val_accuracy: 0.0000e+00\n"
     ]
    }
   ],
   "source": [
    "model.compile(optimizer='adam',\n",
    "              loss=tf.keras.losses.SparseCategoricalCrossentropy(from_logits=True),\n",
    "              metrics=['accuracy'])\n",
    "\n",
    "history = model.fit(x_train, y_train, epochs=10, \n",
    "                    validation_data=(x_test, y_test))"
   ]
  }
 ],
 "metadata": {
  "interpreter": {
   "hash": "6f6ac71a852bd6d80ce0d374c33eae97b00717625ad83596a01c3a0491541b1c"
  },
  "kernelspec": {
   "display_name": "Python 3.7.11 ('fyp')",
   "language": "python",
   "name": "python3"
  },
  "language_info": {
   "codemirror_mode": {
    "name": "ipython",
    "version": 3
   },
   "file_extension": ".py",
   "mimetype": "text/x-python",
   "name": "python",
   "nbconvert_exporter": "python",
   "pygments_lexer": "ipython3",
   "version": "3.7.11"
  },
  "orig_nbformat": 4
 },
 "nbformat": 4,
 "nbformat_minor": 2
}
