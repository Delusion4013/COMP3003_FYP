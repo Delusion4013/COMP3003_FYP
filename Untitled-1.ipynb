{
 "cells": [
  {
   "cell_type": "code",
   "execution_count": 6,
   "metadata": {},
   "outputs": [],
   "source": [
    "import pandas as pd\n",
    "from rdkit import Chem\n",
    "from rdkit.Chem import PandasTools\n",
    "\n",
    "\n",
    "my_sdf_file = '2yel.sdf'\n",
    "\n",
    "frame = PandasTools.LoadSDF(my_sdf_file,\n",
    "                            smilesName='SMILES',\n",
    "                            molColName='Molecule',\n",
    "                            includeFingerprints=False)\n",
    "\n",
    "# frame.to_csv('excel_isothiocyanates.csv')"
   ]
  }
 ],
 "metadata": {
  "interpreter": {
   "hash": "eb6471874663633da23371897daeb28f6ac799be2c2c93163f2eea578506204f"
  },
  "kernelspec": {
   "display_name": "Python 3.7.11 64-bit ('ml': conda)",
   "language": "python",
   "name": "python3"
  },
  "language_info": {
   "codemirror_mode": {
    "name": "ipython",
    "version": 3
   },
   "file_extension": ".py",
   "mimetype": "text/x-python",
   "name": "python",
   "nbconvert_exporter": "python",
   "pygments_lexer": "ipython3",
   "version": "3.7.11"
  },
  "orig_nbformat": 4
 },
 "nbformat": 4,
 "nbformat_minor": 2
}
